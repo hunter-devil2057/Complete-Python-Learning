{
 "cells": [
  {
   "cell_type": "code",
   "execution_count": 1,
   "metadata": {},
   "outputs": [
    {
     "name": "stdout",
     "output_type": "stream",
     "text": [
      "mango\n",
      "apple\n",
      "grapes\n",
      "orange\n"
     ]
    }
   ],
   "source": [
    "# For Loop: used to iterate over a sequence (tuple, list, dictionary...)\n",
    "list=['mango', 'apple', 'grapes', 'orange']\n",
    "for i in list:\n",
    "    print(i)"
   ]
  },
  {
   "cell_type": "code",
   "execution_count": 5,
   "metadata": {},
   "outputs": [
    {
     "name": "stdout",
     "output_type": "stream",
     "text": [
      "Orange Chair\n",
      "Orange Book\n",
      "Orange Laptop\n",
      "Black Chair\n",
      "Black Book\n",
      "Black Laptop\n",
      "White Chair\n",
      "White Book\n",
      "White Laptop\n"
     ]
    }
   ],
   "source": [
    "# List of Colors\n",
    "li1=[\"Orange\", \"Black\", \"White\"]\n",
    "# List of Items\n",
    "li2=[\"Chair\", \"Book\", \"Laptop\"]\n",
    "# Mixing up in Loop: Example of nested For-loop\n",
    "for i in li1:\n",
    "    for j in li2:\n",
    "        print(i,j)"
   ]
  }
 ],
 "metadata": {
  "kernelspec": {
   "display_name": "Python 3",
   "language": "python",
   "name": "python3"
  },
  "language_info": {
   "codemirror_mode": {
    "name": "ipython",
    "version": 3
   },
   "file_extension": ".py",
   "mimetype": "text/x-python",
   "name": "python",
   "nbconvert_exporter": "python",
   "pygments_lexer": "ipython3",
   "version": "3.12.4"
  }
 },
 "nbformat": 4,
 "nbformat_minor": 2
}
