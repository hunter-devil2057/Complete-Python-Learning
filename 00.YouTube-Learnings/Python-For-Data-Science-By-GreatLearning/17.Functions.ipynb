{
 "cells": [
  {
   "cell_type": "code",
   "execution_count": 2,
   "metadata": {},
   "outputs": [
    {
     "name": "stdout",
     "output_type": "stream",
     "text": [
      "Hello, World!\n"
     ]
    }
   ],
   "source": [
    "# Function in Python: \n",
    "# Syntax of Function: def FunctionName(parameters): \n",
    "def Hello():\n",
    "    print(\"Hello, World!\")\n",
    "# Calling a function Hello()\n",
    "Hello()"
   ]
  },
  {
   "cell_type": "code",
   "execution_count": 14,
   "metadata": {},
   "outputs": [
    {
     "name": "stdout",
     "output_type": "stream",
     "text": [
      "22\n",
      "55\n"
     ]
    }
   ],
   "source": [
    "# Creating Function that takes value and returns by increasing 10\n",
    "def add_10(x):\n",
    "    return x+10\n",
    "# Invoking/calling a function\n",
    "print(add_10(12))\n",
    "print(add_10(45))"
   ]
  },
  {
   "cell_type": "code",
   "execution_count": 9,
   "metadata": {},
   "outputs": [
    {
     "name": "stdout",
     "output_type": "stream",
     "text": [
      "Odd\n",
      "Even\n"
     ]
    }
   ],
   "source": [
    "def OddEven(num):\n",
    "    if(num%2==0):\n",
    "        print(\"Even\")\n",
    "    else:\n",
    "        print(\"Odd\")\n",
    "# Invoking/Calling a Function OddEven\n",
    "OddEven(45)\n",
    "OddEven(22)"
   ]
  },
  {
   "cell_type": "code",
   "execution_count": 16,
   "metadata": {},
   "outputs": [
    {
     "data": {
      "text/plain": [
       "125"
      ]
     },
     "execution_count": 16,
     "metadata": {},
     "output_type": "execute_result"
    }
   ],
   "source": [
    "# Lambda Function/Anonymous Function: \n",
    "# Defining Lambda Function: using 'lambda' keyword\n",
    "# Syntax: varName=lambda parameter: Expression(input as parameter)\n",
    "g=lambda x:x*x*x\n",
    "# g is a variable to store lambda Function \n",
    "g(5)"
   ]
  },
  {
   "cell_type": "code",
   "execution_count": 26,
   "metadata": {},
   "outputs": [
    {
     "data": {
      "text/plain": [
       "[47, 21, 91, 87, 49, 27, 61]"
      ]
     },
     "execution_count": 26,
     "metadata": {},
     "output_type": "execute_result"
    }
   ],
   "source": [
    "# Lambda Filter\n",
    "# Creating a List\n",
    "l1=[12, 47, 21, 14, 91, 87, 49, 27, 100, 84, 61]\n",
    "# filter(param1, param2): takes only two parameters\n",
    "OddValue=list(filter(lambda x:(x%2!=0), l1))\n",
    "# Here, filter takes two parameters: lambda function + lists\n",
    "# lambda function has a parameter with expression/condition (x%2!=0)\n",
    "# list() is a function that converts the result into the list\n",
    "OddValue"
   ]
  },
  {
   "cell_type": "code",
   "execution_count": 30,
   "metadata": {},
   "outputs": [
    {
     "data": {
      "text/plain": [
       "[2, 4, 6, 8, 10, 12, 14, 16]"
      ]
     },
     "execution_count": 30,
     "metadata": {},
     "output_type": "execute_result"
    }
   ],
   "source": [
    "# Lambda with Maps\n",
    "l1=[1, 2, 3, 4, 5, 6, 7, 8]\n",
    "# map(param1, param2): takes only two parameters\n",
    "# param1=lambda function; param2=lists;\n",
    "numDouble=list(map(lambda x:(x*2), l1))\n",
    "# lambda function has a parameter with expression/condition (x*2)\n",
    "# list() is a function that converts the result into the list\n",
    "numDouble"
   ]
  },
  {
   "cell_type": "code",
   "execution_count": 32,
   "metadata": {},
   "outputs": [
    {
     "data": {
      "text/plain": [
       "36"
      ]
     },
     "execution_count": 32,
     "metadata": {},
     "output_type": "execute_result"
    }
   ],
   "source": [
    "# Reduce:\n",
    "# Functools: sub-modules of Reduce, need to import from reduce\n",
    "from functools import reduce    #import if we need consolidated results\n",
    "# Consolidated results: final result of sequence\n",
    "# reduce(param1, param2): takes only two parameters\n",
    "# param1=lambda function; param2=lists;\n",
    "sum=reduce(lambda x,y:x+y,l1)\n",
    "# lambda function has a parameter with expression/condition (x+y)\n",
    "# list() is a function that converts the result into the list\n",
    "sum"
   ]
  }
 ],
 "metadata": {
  "kernelspec": {
   "display_name": "Python 3",
   "language": "python",
   "name": "python3"
  },
  "language_info": {
   "codemirror_mode": {
    "name": "ipython",
    "version": 3
   },
   "file_extension": ".py",
   "mimetype": "text/x-python",
   "name": "python",
   "nbconvert_exporter": "python",
   "pygments_lexer": "ipython3",
   "version": "3.12.4"
  }
 },
 "nbformat": 4,
 "nbformat_minor": 2
}
