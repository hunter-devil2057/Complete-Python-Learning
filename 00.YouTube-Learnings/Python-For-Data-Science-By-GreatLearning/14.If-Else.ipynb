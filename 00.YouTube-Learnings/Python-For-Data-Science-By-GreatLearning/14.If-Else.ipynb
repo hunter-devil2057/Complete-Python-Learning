{
 "cells": [
  {
   "cell_type": "code",
   "execution_count": 1,
   "metadata": {},
   "outputs": [
    {
     "name": "stdout",
     "output_type": "stream",
     "text": [
      "b is greater than a\n"
     ]
    }
   ],
   "source": [
    "a=10\n",
    "b=20\n",
    "if b>a:     #if condition: \n",
    "    print(\"b is greater than a\")    #decision \n",
    "    # Indentation is necessary\n",
    "    # Displays result because condition is true, if false it doesn't "
   ]
  },
  {
   "cell_type": "code",
   "execution_count": 2,
   "metadata": {},
   "outputs": [],
   "source": [
    "if a>b:\n",
    "    print(\"a is greater than b\")\n",
    "    # Doesn't show result because the condition is false \n",
    "    # and, we haven't decided any condition for false situation "
   ]
  },
  {
   "cell_type": "code",
   "execution_count": 3,
   "metadata": {},
   "outputs": [
    {
     "name": "stdout",
     "output_type": "stream",
     "text": [
      "b is greater than a\n"
     ]
    }
   ],
   "source": [
    "if a>b:\n",
    "    print(\"a is greater than b\")        #displays if the condition is true\n",
    "else:\n",
    "    print(\"b is greater than a\")        #displays if the condition is false"
   ]
  },
  {
   "cell_type": "code",
   "execution_count": 5,
   "metadata": {},
   "outputs": [
    {
     "name": "stdout",
     "output_type": "stream",
     "text": [
      "c is the greatest number.\n"
     ]
    }
   ],
   "source": [
    "a=10\n",
    "b=20\n",
    "c=30\n",
    "if ((a>b) & (a>c)):\n",
    "    print(\"a is greatest number.\")\n",
    "elif((b>a) & (b>c)):\n",
    "    print(\"b is greatest number.\")\n",
    "else:\n",
    "    print(\"c is the greatest number.\")"
   ]
  },
  {
   "cell_type": "code",
   "execution_count": null,
   "metadata": {},
   "outputs": [],
   "source": [
    "# if with tuple\n",
    "tuple1=(\"a\", \"b\", \"c\")\n",
    "if(\"a\" in tuple1):\n",
    "    print(\"Value a is found.\")"
   ]
  },
  {
   "cell_type": "code",
   "execution_count": 6,
   "metadata": {},
   "outputs": [
    {
     "name": "stdout",
     "output_type": "stream",
     "text": [
      "Value z is not found.\n"
     ]
    }
   ],
   "source": [
    "# if with tuple\n",
    "tuple1=(\"a\", \"b\", \"c\")\n",
    "if(\"z\" in tuple1):\n",
    "    print(\"Value z is found.\")\n",
    "else:\n",
    "    print(\"Value z is not found.\")"
   ]
  },
  {
   "cell_type": "code",
   "execution_count": 32,
   "metadata": {},
   "outputs": [
    {
     "name": "stdout",
     "output_type": "stream",
     "text": [
      "['x', 'y', 'c']\n"
     ]
    }
   ],
   "source": [
    "# if with list\n",
    "list1=[\"x\", \"y\", \"z\"]\n",
    "# if(\"z\" in list1):     we can also write this one, with no index\n",
    "if(\"z\" == list1[2]):\n",
    "    list1[2]=\"c\"\n",
    "print(list1)"
   ]
  },
  {
   "cell_type": "code",
   "execution_count": 33,
   "metadata": {},
   "outputs": [
    {
     "name": "stdout",
     "output_type": "stream",
     "text": [
      "{'k1': 1, 'k2': 2, 'k3': 13}\n"
     ]
    }
   ],
   "source": [
    "# if with dictionary\n",
    "dictionary1={\"k1\":1, \"k2\":2, \"k3\":3}\n",
    "if dictionary1[\"k3\"]==3:\n",
    "    dictionary1[\"k3\"]=dictionary1[\"k3\"]+10\n",
    "print(dictionary1)"
   ]
  }
 ],
 "metadata": {
  "kernelspec": {
   "display_name": "base",
   "language": "python",
   "name": "python3"
  },
  "language_info": {
   "codemirror_mode": {
    "name": "ipython",
    "version": 3
   },
   "file_extension": ".py",
   "mimetype": "text/x-python",
   "name": "python",
   "nbconvert_exporter": "python",
   "pygments_lexer": "ipython3",
   "version": "3.12.4"
  }
 },
 "nbformat": 4,
 "nbformat_minor": 2
}
