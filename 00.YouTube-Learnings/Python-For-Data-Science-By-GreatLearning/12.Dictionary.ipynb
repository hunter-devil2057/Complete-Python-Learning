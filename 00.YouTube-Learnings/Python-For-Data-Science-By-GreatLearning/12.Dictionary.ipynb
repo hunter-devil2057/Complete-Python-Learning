{
 "cells": [
  {
   "cell_type": "code",
   "execution_count": 1,
   "metadata": {},
   "outputs": [
    {
     "data": {
      "text/plain": [
       "{'Mango': 200, 'Apple': 120, 'Banana': 100, 'Guava': 80}"
      ]
     },
     "execution_count": 1,
     "metadata": {},
     "output_type": "execute_result"
    }
   ],
   "source": [
    "Fruit={\"Mango\":200, \"Apple\":120, \"Banana\":100, \"Guava\":80}\n",
    "Fruit"
   ]
  },
  {
   "cell_type": "code",
   "execution_count": 2,
   "metadata": {},
   "outputs": [
    {
     "data": {
      "text/plain": [
       "dict"
      ]
     },
     "execution_count": 2,
     "metadata": {},
     "output_type": "execute_result"
    }
   ],
   "source": [
    "type(Fruit)"
   ]
  },
  {
   "cell_type": "code",
   "execution_count": 4,
   "metadata": {},
   "outputs": [
    {
     "name": "stdout",
     "output_type": "stream",
     "text": [
      "dict_keys(['Mango', 'Apple', 'Banana', 'Guava'])\n",
      "dict_values([200, 120, 100, 80])\n"
     ]
    }
   ],
   "source": [
    "# Extracting Keys and Values\n",
    "print(Fruit.keys())\n",
    "print(Fruit.values())"
   ]
  },
  {
   "cell_type": "code",
   "execution_count": 7,
   "metadata": {},
   "outputs": [
    {
     "name": "stdout",
     "output_type": "stream",
     "text": [
      "{'Mango': 200, 'Apple': 120, 'Banana': 100, 'Guava': 80}\n",
      "{'Mango': 200, 'Apple': 120, 'Banana': 100, 'Guava': 80, 'Cherry': 65}\n"
     ]
    }
   ],
   "source": [
    "# Modifying a Dictionary\n",
    "# Adding a New Element \n",
    "print(Fruit)\n",
    "Fruit[\"Cherry\"]=65      #Adding a New Element with Syntax: varName[\"Key\"]=Value\n",
    "print(Fruit)"
   ]
  },
  {
   "cell_type": "code",
   "execution_count": 8,
   "metadata": {},
   "outputs": [
    {
     "name": "stdout",
     "output_type": "stream",
     "text": [
      "{'Mango': 200, 'Apple': 120, 'Banana': 100, 'Guava': 80, 'Cherry': 65}\n",
      "{'Mango': 200, 'Apple': 120, 'Banana': 100, 'Guava': 80, 'Cherry': 86}\n"
     ]
    }
   ],
   "source": [
    "# Modifying a Dictionary\n",
    "# Changing an Existing Element \n",
    "print(Fruit)\n",
    "Fruit[\"Cherry\"]=86      #Modifying a New Element with Syntax: varName[\"Key\"]=NewValue\n",
    "print(Fruit)"
   ]
  },
  {
   "cell_type": "code",
   "execution_count": 11,
   "metadata": {},
   "outputs": [
    {
     "name": "stdout",
     "output_type": "stream",
     "text": [
      "{'Mango': 200, 'Apple': 120, 'Banana': 100, 'Guava': 80, 'Cherry': 86, 'Cauliflower': 200, 'Cabbage': 125, 'Radish': 50, 'Carrot': 45}\n",
      "None\n"
     ]
    }
   ],
   "source": [
    "# Dictionary Functions\n",
    "# Update One Dictionary's Element with Another: .update()\n",
    "print(Fruit)\n",
    "Vegetable={'Cauliflower': 200, 'Cabbage': 125, 'Radish': 50, 'Carrot': 45}\n",
    "# Adds/Concatenates the elements of Vegetables into Fruit\n",
    "print(Fruit.update(Vegetable))"
   ]
  },
  {
   "cell_type": "code",
   "execution_count": 27,
   "metadata": {},
   "outputs": [
    {
     "name": "stdout",
     "output_type": "stream",
     "text": [
      "{'Mango': 200, 'Apple': 120, 'Banana': 100}\n"
     ]
    }
   ],
   "source": [
    "# Dictionary Functions \n",
    "# Popping an Element from Dictionary: .pop()\n",
    "Fruit={\"Mango\":200, \"Apple\":120, \"Banana\":100, \"Guava\":80}\n",
    "Fruit.pop(\"Guava\")\n",
    "print(Fruit)"
   ]
  },
  {
   "cell_type": "code",
   "execution_count": 26,
   "metadata": {},
   "outputs": [
    {
     "name": "stdout",
     "output_type": "stream",
     "text": [
      "{'Mango': 200, 'Apple': 120, 'Banana': 100, 'Guava': 80, 'Litchi': 65, 'Peach': 90, 'Watermelon': 150}\n"
     ]
    }
   ],
   "source": [
    "FruitOld={\"Mango\":200, \"Apple\":120, \"Banana\":100, \"Guava\":80}\n",
    "FruitNew={\"Litchi\":65, \"Peach\":90, \"Watermelon\":150}\n",
    "FruitOld.update(FruitNew)\n",
    "print(FruitOld)"
   ]
  }
 ],
 "metadata": {
  "kernelspec": {
   "display_name": "base",
   "language": "python",
   "name": "python3"
  },
  "language_info": {
   "codemirror_mode": {
    "name": "ipython",
    "version": 3
   },
   "file_extension": ".py",
   "mimetype": "text/x-python",
   "name": "python",
   "nbconvert_exporter": "python",
   "pygments_lexer": "ipython3",
   "version": "3.12.4"
  }
 },
 "nbformat": 4,
 "nbformat_minor": 2
}
