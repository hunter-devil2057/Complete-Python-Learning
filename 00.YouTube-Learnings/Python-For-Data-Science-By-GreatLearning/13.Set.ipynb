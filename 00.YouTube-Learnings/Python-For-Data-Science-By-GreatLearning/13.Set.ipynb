{
 "cells": [
  {
   "cell_type": "code",
   "execution_count": 4,
   "metadata": {},
   "outputs": [
    {
     "data": {
      "text/plain": [
       "{(12.34-111j), 11, 12.45, 'Manish', True}"
      ]
     },
     "execution_count": 4,
     "metadata": {},
     "output_type": "execute_result"
    }
   ],
   "source": [
    "# Sets in Python \n",
    "# Defining Set named s1 \n",
    "s1={11, \"Manish\", 12.45, True, 12.34-111j}\n",
    "s1"
   ]
  },
  {
   "cell_type": "code",
   "execution_count": 5,
   "metadata": {},
   "outputs": [
    {
     "data": {
      "text/plain": [
       "{11, 12, 14, 'Numbers', 'fun', 'is', 'really'}"
      ]
     },
     "execution_count": 5,
     "metadata": {},
     "output_type": "execute_result"
    }
   ],
   "source": [
    "# Trying out Duplicates: Which is not really allowed!!!\n",
    "set1={11, 12, 11, 14, \"Numbers\", \"is\", \"fun\", \"really\", \"fun\"}\n",
    "set1"
   ]
  },
  {
   "cell_type": "code",
   "execution_count": 9,
   "metadata": {},
   "outputs": [
    {
     "data": {
      "text/plain": [
       "{(3-4j), 1, 4.13, False, 'Manish', 'Shiwakoti'}"
      ]
     },
     "execution_count": 9,
     "metadata": {},
     "output_type": "execute_result"
    }
   ],
   "source": [
    "# Set Operations \n",
    "# Update One Dictionary's Element with Another Dictionary\n",
    "set2={1, False, \"Manish\", 4.13, 3-4j, \"Shiwakoti\", True}\n",
    "set2"
   ]
  },
  {
   "cell_type": "code",
   "execution_count": 10,
   "metadata": {},
   "outputs": [
    {
     "name": "stdout",
     "output_type": "stream",
     "text": [
      "{False, 1, 4.13, 'Manish', (3-4j), 'Shiwakoti'}\n",
      "{False, 1, 4.13, 'Manish', (3-4j)}\n"
     ]
    }
   ],
   "source": [
    "# Set Operations \n",
    "# Removing an Element \n",
    "print(set2)\n",
    "set2.remove(\"Shiwakoti\")\n",
    "print(set2)"
   ]
  },
  {
   "cell_type": "code",
   "execution_count": 11,
   "metadata": {},
   "outputs": [
    {
     "data": {
      "text/plain": [
       "{(12-9j), 1, 10, 20, 21, 30, 41.23, 'Mandy'}"
      ]
     },
     "execution_count": 11,
     "metadata": {},
     "output_type": "execute_result"
    }
   ],
   "source": [
    "# Set Operations \n",
    "# Updating Multiple Elements \n",
    "set3={1, \"Mandy\", 21, 41.23, 12-9j, True}\n",
    "set3.update([10, 20, 30])\n",
    "set3"
   ]
  },
  {
   "cell_type": "code",
   "execution_count": 12,
   "metadata": {},
   "outputs": [
    {
     "data": {
      "text/plain": [
       "{1, 2, 3, 'a', 'b', 'c'}"
      ]
     },
     "execution_count": 12,
     "metadata": {},
     "output_type": "execute_result"
    }
   ],
   "source": [
    "# Set Functions\n",
    "# Union of Two Sets\n",
    "a={1, 2, 3}\n",
    "b={\"a\", \"b\", \"c\"}\n",
    "a.union(b)"
   ]
  },
  {
   "cell_type": "code",
   "execution_count": 14,
   "metadata": {},
   "outputs": [
    {
     "data": {
      "text/plain": [
       "{2, 4, 6, 8, 10}"
      ]
     },
     "execution_count": 14,
     "metadata": {},
     "output_type": "execute_result"
    }
   ],
   "source": [
    "# Set Functions \n",
    "# Intersection of Two Sets\n",
    "x={1, 2, 3, 4, 5, 6, 7, 8, 9, 10}\n",
    "y={2, 4, 6, 8, 10}\n",
    "x.intersection(y)"
   ]
  }
 ],
 "metadata": {
  "kernelspec": {
   "display_name": "base",
   "language": "python",
   "name": "python3"
  },
  "language_info": {
   "codemirror_mode": {
    "name": "ipython",
    "version": 3
   },
   "file_extension": ".py",
   "mimetype": "text/x-python",
   "name": "python",
   "nbconvert_exporter": "python",
   "pygments_lexer": "ipython3",
   "version": "3.12.4"
  }
 },
 "nbformat": 4,
 "nbformat_minor": 2
}
