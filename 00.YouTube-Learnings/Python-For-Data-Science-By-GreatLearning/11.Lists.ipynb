{
 "cells": [
  {
   "cell_type": "code",
   "execution_count": 1,
   "metadata": {},
   "outputs": [
    {
     "data": {
      "text/plain": [
       "[1, 'Manish', 3.14, True, (3-4j)]"
      ]
     },
     "execution_count": 1,
     "metadata": {},
     "output_type": "execute_result"
    }
   ],
   "source": [
    "# Creating a List named List1\n",
    "List1=[1, \"Manish\", 3.14, True, 3-4j]\n",
    "List1"
   ]
  },
  {
   "cell_type": "code",
   "execution_count": 2,
   "metadata": {},
   "outputs": [
    {
     "data": {
      "text/plain": [
       "list"
      ]
     },
     "execution_count": 2,
     "metadata": {},
     "output_type": "execute_result"
    }
   ],
   "source": [
    "type(List1)"
   ]
  },
  {
   "cell_type": "code",
   "execution_count": 4,
   "metadata": {},
   "outputs": [
    {
     "name": "stdout",
     "output_type": "stream",
     "text": [
      "1\n",
      "Manish\n",
      "3.14\n",
      "True\n",
      "(3-4j)\n"
     ]
    }
   ],
   "source": [
    "# Extracting Individual Elements\n",
    "print(List1[0])\n",
    "print(List1[1])\n",
    "print(List1[2])\n",
    "print(List1[3])\n",
    "print(List1[4])"
   ]
  },
  {
   "cell_type": "code",
   "execution_count": 5,
   "metadata": {},
   "outputs": [
    {
     "name": "stdout",
     "output_type": "stream",
     "text": [
      "(3-4j)\n",
      "True\n",
      "3.14\n",
      "Manish\n",
      "(3-4j)\n"
     ]
    }
   ],
   "source": [
    "# Extracting Individual Elements \n",
    "print(List1[-1])\n",
    "print(List1[-2])\n",
    "print(List1[-3])\n",
    "print(List1[-4])"
   ]
  },
  {
   "cell_type": "code",
   "execution_count": 10,
   "metadata": {},
   "outputs": [
    {
     "name": "stdout",
     "output_type": "stream",
     "text": [
      "[1, 'Manish', 3.14, True]\n",
      "['Manish', 3.14]\n",
      "[]\n",
      "[1, 'Manish', 3.14, True]\n"
     ]
    }
   ],
   "source": [
    "# Extracting Individual Elements \n",
    "print(List1[0:4])\n",
    "print(List1[1:3])\n",
    "print(List1[2:2])"
   ]
  },
  {
   "cell_type": "code",
   "execution_count": 19,
   "metadata": {},
   "outputs": [
    {
     "name": "stdout",
     "output_type": "stream",
     "text": [
      "[1, 'Manish', 3.14, True]\n",
      "['Manish', 3.14]\n",
      "[]\n"
     ]
    }
   ],
   "source": [
    "# Extracting Individual Elements \n",
    "print(List1[-5:-1]) \n",
    "print(List1[-4:-2])\n",
    "print(List1[-3:-3])"
   ]
  },
  {
   "cell_type": "code",
   "execution_count": 23,
   "metadata": {},
   "outputs": [
    {
     "name": "stdout",
     "output_type": "stream",
     "text": [
      "[11, 'Manish', 3.14, True, (3-4j)]\n"
     ]
    }
   ],
   "source": [
    "# Modifying a List: Possible\n",
    "# Changing the Element of Index: 0\n",
    "List1[0]=11\n",
    "print(List1)"
   ]
  },
  {
   "cell_type": "code",
   "execution_count": 25,
   "metadata": {},
   "outputs": [
    {
     "name": "stdout",
     "output_type": "stream",
     "text": [
      "[11, 'Hunter Devil', 3.14, True, (3-4j)]\n"
     ]
    }
   ],
   "source": [
    "# Modifying a List: Possible\n",
    "# Changing the Element of Index: 1\n",
    "List1[1]=\"Hunter Devil\"\n",
    "print(List1)"
   ]
  },
  {
   "cell_type": "code",
   "execution_count": 28,
   "metadata": {},
   "outputs": [
    {
     "data": {
      "text/plain": [
       "[11, 'Hunter Devil', 3.14]"
      ]
     },
     "execution_count": 28,
     "metadata": {},
     "output_type": "execute_result"
    }
   ],
   "source": [
    "# Modifying a List: Possible \n",
    "# Popping the Last Element\n",
    "List1.pop()\n",
    "List1"
   ]
  },
  {
   "cell_type": "code",
   "execution_count": 29,
   "metadata": {},
   "outputs": [
    {
     "data": {
      "text/plain": [
       "[11, 'Hunter Devil', 3.14, (3-4j)]"
      ]
     },
     "execution_count": 29,
     "metadata": {},
     "output_type": "execute_result"
    }
   ],
   "source": [
    "# Modifying a List: Possible\n",
    "# Appending a New Element in Last Position \n",
    "List1.append(3-4j)\n",
    "List1"
   ]
  },
  {
   "cell_type": "code",
   "execution_count": 32,
   "metadata": {},
   "outputs": [
    {
     "data": {
      "text/plain": [
       "[(3-4j), 3.14, 'Hunter Devil', 11]"
      ]
     },
     "execution_count": 32,
     "metadata": {},
     "output_type": "execute_result"
    }
   ],
   "source": [
    "# Modifying a List: Possible\n",
    "# Reversing Elements of a List in Opposite Order\n",
    "List1.reverse()\n",
    "List1"
   ]
  },
  {
   "cell_type": "code",
   "execution_count": 34,
   "metadata": {},
   "outputs": [
    {
     "data": {
      "text/plain": [
       "['Apple', 'Banana', 'Guava', 'Mango', 'Papaya', 'Peach']"
      ]
     },
     "execution_count": 34,
     "metadata": {},
     "output_type": "execute_result"
    }
   ],
   "source": [
    "# Modifying a List: Possible \n",
    "# Sorting a List\n",
    "List1=[\"Papaya\", \"Banana\", \"Apple\", \"Mango\", \"Guava\", \"Peach\"]\n",
    "List1.sort()\n",
    "List1"
   ]
  },
  {
   "cell_type": "code",
   "execution_count": 36,
   "metadata": {},
   "outputs": [
    {
     "data": {
      "text/plain": [
       "[0, 1, 2, 3, 4, 5, 6, 7, 8]"
      ]
     },
     "execution_count": 36,
     "metadata": {},
     "output_type": "execute_result"
    }
   ],
   "source": [
    "# Modifying a List: Possible \n",
    "# Inserting Elements at Specified Index\n",
    "List1=[1, 2, 3, 4, 5, 6, 7, 8]\n",
    "List1.insert(0, 0)\n",
    "List1"
   ]
  }
 ],
 "metadata": {
  "kernelspec": {
   "display_name": "base",
   "language": "python",
   "name": "python3"
  },
  "language_info": {
   "codemirror_mode": {
    "name": "ipython",
    "version": 3
   },
   "file_extension": ".py",
   "mimetype": "text/x-python",
   "name": "python",
   "nbconvert_exporter": "python",
   "pygments_lexer": "ipython3",
   "version": "3.12.4"
  }
 },
 "nbformat": 4,
 "nbformat_minor": 2
}
