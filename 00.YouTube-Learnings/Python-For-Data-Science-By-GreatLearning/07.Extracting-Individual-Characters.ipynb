{
 "cells": [
  {
   "cell_type": "code",
   "execution_count": 1,
   "metadata": {},
   "outputs": [
    {
     "data": {
      "text/plain": [
       "'This is Manish'"
      ]
     },
     "execution_count": 1,
     "metadata": {},
     "output_type": "execute_result"
    }
   ],
   "source": [
    "myString=\"This is Manish\"\n",
    "myString"
   ]
  },
  {
   "cell_type": "code",
   "execution_count": 3,
   "metadata": {},
   "outputs": [
    {
     "name": "stdout",
     "output_type": "stream",
     "text": [
      "T\n",
      "h\n",
      "i\n",
      "s\n",
      " \n",
      "i\n",
      "s\n",
      " \n",
      "M\n",
      "a\n",
      "n\n",
      "i\n",
      "s\n",
      "h\n"
     ]
    }
   ],
   "source": [
    "# Extracting Individual Characters from Left to Right\n",
    "print(myString[0])\n",
    "print(myString[1])\n",
    "print(myString[2])\n",
    "print(myString[3])\n",
    "print(myString[4])\n",
    "print(myString[5])\n",
    "print(myString[6])\n",
    "print(myString[7])\n",
    "print(myString[8])\n",
    "print(myString[9])\n",
    "print(myString[10])\n",
    "print(myString[11])\n",
    "print(myString[12])\n",
    "print(myString[13])"
   ]
  },
  {
   "cell_type": "code",
   "execution_count": 7,
   "metadata": {},
   "outputs": [
    {
     "name": "stdout",
     "output_type": "stream",
     "text": [
      "h\n",
      "s\n",
      "i\n",
      "n\n",
      "a\n",
      "M\n",
      " \n",
      "s\n",
      "i\n",
      " \n",
      "s\n",
      "i\n",
      "h\n",
      "T\n"
     ]
    }
   ],
   "source": [
    "# Extracting Individual Characters from Right to Left\n",
    "print(myString[-1])\n",
    "print(myString[-2])\n",
    "print(myString[-3])\n",
    "print(myString[-4])\n",
    "print(myString[-5])\n",
    "print(myString[-6])\n",
    "print(myString[-7])\n",
    "print(myString[-8])\n",
    "print(myString[-9])\n",
    "print(myString[-10])\n",
    "print(myString[-11])\n",
    "print(myString[-12])\n",
    "print(myString[-13])\n",
    "print(myString[-14])"
   ]
  },
  {
   "cell_type": "code",
   "execution_count": 17,
   "metadata": {},
   "outputs": [
    {
     "name": "stdout",
     "output_type": "stream",
     "text": [
      "This is Manish\n",
      "his is Manis\n",
      "is is Mani\n",
      "s is Man\n",
      " is Ma\n",
      "is M\n",
      "s \n",
      " \n"
     ]
    }
   ],
   "source": [
    "print(myString[0:14])\n",
    "print(myString[1:13])\n",
    "print(myString[2:12])\n",
    "print(myString[3:11])\n",
    "print(myString[4:10])\n",
    "print(myString[5:9])\n",
    "print(myString[6:8])\n",
    "print(myString[7])"
   ]
  }
 ],
 "metadata": {
  "kernelspec": {
   "display_name": "base",
   "language": "python",
   "name": "python3"
  },
  "language_info": {
   "codemirror_mode": {
    "name": "ipython",
    "version": 3
   },
   "file_extension": ".py",
   "mimetype": "text/x-python",
   "name": "python",
   "nbconvert_exporter": "python",
   "pygments_lexer": "ipython3",
   "version": "3.12.4"
  }
 },
 "nbformat": 4,
 "nbformat_minor": 2
}
