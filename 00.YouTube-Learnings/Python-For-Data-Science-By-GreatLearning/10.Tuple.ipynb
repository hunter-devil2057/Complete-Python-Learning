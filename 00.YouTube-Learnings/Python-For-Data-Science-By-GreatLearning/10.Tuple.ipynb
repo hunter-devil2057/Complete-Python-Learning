{
 "cells": [
  {
   "cell_type": "code",
   "execution_count": 2,
   "metadata": {},
   "outputs": [
    {
     "data": {
      "text/plain": [
       "(1, True, 3.14, (3-4j), 'Manish')"
      ]
     },
     "execution_count": 2,
     "metadata": {},
     "output_type": "execute_result"
    }
   ],
   "source": [
    "\n",
    "# Creating a Tuple named tup1\n",
    "tup1=(1, True, 3.14, 3-4j, \"Manish\")\n",
    "tup1"
   ]
  },
  {
   "cell_type": "code",
   "execution_count": 3,
   "metadata": {},
   "outputs": [
    {
     "data": {
      "text/plain": [
       "tuple"
      ]
     },
     "execution_count": 3,
     "metadata": {},
     "output_type": "execute_result"
    }
   ],
   "source": [
    "type(tup1)"
   ]
  },
  {
   "cell_type": "code",
   "execution_count": 8,
   "metadata": {},
   "outputs": [
    {
     "data": {
      "text/plain": [
       "(1, 'a', True, 2, 'b', False)"
      ]
     },
     "execution_count": 8,
     "metadata": {},
     "output_type": "execute_result"
    }
   ],
   "source": [
    "# Extracting Individual Elements in Tuples\n",
    "tup1=(1, \"a\", True, 2, \"b\", False)\n",
    "tup1"
   ]
  },
  {
   "cell_type": "code",
   "execution_count": 10,
   "metadata": {},
   "outputs": [
    {
     "name": "stdout",
     "output_type": "stream",
     "text": [
      "1\n",
      "a\n",
      "True\n",
      "2\n",
      "b\n",
      "False\n"
     ]
    }
   ],
   "source": [
    "print(tup1[0])\n",
    "print(tup1[1])\n",
    "print(tup1[2])\n",
    "print(tup1[3])\n",
    "print(tup1[4])\n",
    "print(tup1[5])"
   ]
  },
  {
   "cell_type": "code",
   "execution_count": 14,
   "metadata": {},
   "outputs": [
    {
     "name": "stdout",
     "output_type": "stream",
     "text": [
      "False\n",
      "b\n",
      "2\n",
      "True\n",
      "a\n",
      "1\n"
     ]
    }
   ],
   "source": [
    "print(tup1[-1])\n",
    "print(tup1[-2])\n",
    "print(tup1[-3])\n",
    "print(tup1[-4])\n",
    "print(tup1[-5])\n",
    "print(tup1[-6])"
   ]
  },
  {
   "cell_type": "code",
   "execution_count": 19,
   "metadata": {},
   "outputs": [
    {
     "name": "stdout",
     "output_type": "stream",
     "text": [
      "(1, 'a', True, 2, 'b', False)\n",
      "('a', True, 2, 'b', False)\n",
      "(True, 2, 'b', False)\n",
      "(2, 'b', False)\n",
      "('b', False)\n",
      "(False,)\n",
      "()\n"
     ]
    }
   ],
   "source": [
    "print(tup1[0:6])\n",
    "print(tup1[1:6])\n",
    "print(tup1[2:6])\n",
    "print(tup1[3:6])\n",
    "print(tup1[4:6])\n",
    "print(tup1[5:6])\n",
    "print(tup1[6:6])"
   ]
  },
  {
   "cell_type": "code",
   "execution_count": 33,
   "metadata": {},
   "outputs": [
    {
     "name": "stdout",
     "output_type": "stream",
     "text": [
      "(1, 'a', True, 2, 'b', False)\n",
      "()\n",
      "('a', True, 2, 'b')\n",
      "(True, 2)\n",
      "()\n"
     ]
    }
   ],
   "source": [
    "print(tup1[-6:])\n",
    "print(tup1[-6:0])\n",
    "print(tup1[-5:-1])\n",
    "print(tup1[-4:-2])\n",
    "print(tup1[-3:-3])"
   ]
  },
  {
   "cell_type": "code",
   "execution_count": 34,
   "metadata": {},
   "outputs": [
    {
     "ename": "TypeError",
     "evalue": "'tuple' object does not support item assignment",
     "output_type": "error",
     "traceback": [
      "\u001b[1;31m---------------------------------------------------------------------------\u001b[0m",
      "\u001b[1;31mTypeError\u001b[0m                                 Traceback (most recent call last)",
      "Cell \u001b[1;32mIn[34], line 1\u001b[0m\n\u001b[1;32m----> 1\u001b[0m tup1[\u001b[38;5;241m1\u001b[39m]\u001b[38;5;241m=\u001b[39m\u001b[38;5;124m\"\u001b[39m\u001b[38;5;124mManish\u001b[39m\u001b[38;5;124m\"\u001b[39m\n\u001b[0;32m      2\u001b[0m tup1[\u001b[38;5;241m1\u001b[39m]\n",
      "\u001b[1;31mTypeError\u001b[0m: 'tuple' object does not support item assignment"
     ]
    }
   ],
   "source": [
    "tup1[1]=\"Manish\"\n",
    "tup1[1]\n",
    "# As tuple is immutable, it's value cannot be changed. "
   ]
  },
  {
   "cell_type": "code",
   "execution_count": 35,
   "metadata": {},
   "outputs": [
    {
     "data": {
      "text/plain": [
       "6"
      ]
     },
     "execution_count": 35,
     "metadata": {},
     "output_type": "execute_result"
    }
   ],
   "source": [
    "# Tuple Basic Operations \n",
    "# Finding Length of Tuple\n",
    "len(tup1)"
   ]
  },
  {
   "cell_type": "code",
   "execution_count": 38,
   "metadata": {},
   "outputs": [
    {
     "data": {
      "text/plain": [
       "(1, 'a', True, 2, 'b', False, 'Acer', (23-14j), 12, 23.45, True)"
      ]
     },
     "execution_count": 38,
     "metadata": {},
     "output_type": "execute_result"
    }
   ],
   "source": [
    "# Tuple Basic Operations \n",
    "# Concatenating Two Tuples\n",
    "tup2=(\"Acer\", 23-14j, 12, 23.45, True)\n",
    "tup3=tup1+tup2\n",
    "tup3"
   ]
  },
  {
   "cell_type": "code",
   "execution_count": 39,
   "metadata": {},
   "outputs": [
    {
     "data": {
      "text/plain": [
       "(12, True, 14.25, 12, True, 14.25)"
      ]
     },
     "execution_count": 39,
     "metadata": {},
     "output_type": "execute_result"
    }
   ],
   "source": [
    "# Tuple Basic Operations \n",
    "# Repeating Tuple Elements\n",
    "tup3=(12, True, 14.25)\n",
    "tup3*2"
   ]
  },
  {
   "cell_type": "code",
   "execution_count": 40,
   "metadata": {},
   "outputs": [
    {
     "data": {
      "text/plain": [
       "('Acer', (23-14j), 12, 23.45, True, 12, True, 14.25, 12, True, 14.25)"
      ]
     },
     "execution_count": 40,
     "metadata": {},
     "output_type": "execute_result"
    }
   ],
   "source": [
    "# Tuple Basic Operations \n",
    "# Repeating and Concatenation of Tuple\n",
    "tup2+tup3*2"
   ]
  },
  {
   "cell_type": "code",
   "execution_count": 42,
   "metadata": {},
   "outputs": [
    {
     "data": {
      "text/plain": [
       "25"
      ]
     },
     "execution_count": 42,
     "metadata": {},
     "output_type": "execute_result"
    }
   ],
   "source": [
    "# Tuple Function \n",
    "# Maximum Elements in Tuple\n",
    "tup1=(12, 13, 14, 15, 15, 17, 19, 21, 25)\n",
    "max(tup1)"
   ]
  },
  {
   "cell_type": "code",
   "execution_count": 43,
   "metadata": {},
   "outputs": [
    {
     "data": {
      "text/plain": [
       "12"
      ]
     },
     "execution_count": 43,
     "metadata": {},
     "output_type": "execute_result"
    }
   ],
   "source": [
    "# Tuple Function\n",
    "# Minimum Elements in Tuple\n",
    "tup2=(12, 14, 21, 91, 42, 21, 13, 61, 49)\n",
    "min(tup2)"
   ]
  }
 ],
 "metadata": {
  "kernelspec": {
   "display_name": "base",
   "language": "python",
   "name": "python3"
  },
  "language_info": {
   "codemirror_mode": {
    "name": "ipython",
    "version": 3
   },
   "file_extension": ".py",
   "mimetype": "text/x-python",
   "name": "python",
   "nbconvert_exporter": "python",
   "pygments_lexer": "ipython3",
   "version": "3.12.4"
  }
 },
 "nbformat": 4,
 "nbformat_minor": 2
}
